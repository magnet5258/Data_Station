{
 "cells": [
  {
   "cell_type": "markdown",
   "metadata": {
    "id": "idYxFHuwOIL1"
   },
   "source": [
    "# DSA 프로젝트 11기 Mission 1"
   ]
  },
  {
   "cell_type": "markdown",
   "metadata": {
    "id": "ONEvCDdxODkh"
   },
   "source": [
    "1. 자료구조 Dictionary를 이용하여, if 문 없이 연도를 입력했을 때 윤년/평년을 판별하여 출력하는 프로그램을 생성하시오."
   ]
  },
  {
   "cell_type": "code",
   "execution_count": 1,
   "metadata": {},
   "outputs": [
    {
     "name": "stdin",
     "output_type": "stream",
     "text": [
      "연도를 입력하시오 :  2321\n"
     ]
    },
    {
     "data": {
      "text/plain": [
       "'평년입니다.'"
      ]
     },
     "execution_count": 1,
     "metadata": {},
     "output_type": "execute_result"
    }
   ],
   "source": [
    "def find_year(year):\n",
    "    check_year = {\n",
    "        True : '윤년입니다.',\n",
    "        False : '평년입니다.'\n",
    "    }\n",
    "    return check_year[(year % 4 == 0 and year % 100 != 0) or (year % 400 == 0)]\n",
    "\n",
    "year = int(input('연도를 입력하시오 : '))\n",
    "find_year(year)"
   ]
  },
  {
   "cell_type": "markdown",
   "metadata": {
    "id": "dZa3jh-Bbh6g"
   },
   "source": [
    "2. A 학생의 과목별 점수가 아래와 같을 때, 이 점수를 딕셔너리 형태로 선언하고, 평균을 계산하시오.\n",
    "\n",
    "- A : 국어 75, 영어 53, 수학 90, 사회 46, 한국사 60, 세계사 70, 과학 34\n",
    "- 과목명은 Key 값, 점수는 Value 값"
   ]
  },
  {
   "cell_type": "code",
   "execution_count": 1,
   "metadata": {
    "colab": {
     "base_uri": "https://localhost:8080/"
    },
    "id": "yTIM5yiHbskx",
    "outputId": "e672ed2b-982d-4822-81e2-143480a24e0e"
   },
   "outputs": [
    {
     "name": "stdout",
     "output_type": "stream",
     "text": [
      "61.142857142857146\n"
     ]
    }
   ],
   "source": [
    "A_score = {'국어' : 75, '영어' : 53, '수학' : 90, '사회' : 46, '한국사' : 60, '세계사' : 70, '과학' : 34}\n",
    "average = sum(A_score.values()) / len(A_score)\n",
    "print(average)"
   ]
  },
  {
   "cell_type": "markdown",
   "metadata": {
    "id": "KR6VEu_U9xg5"
   },
   "source": [
    "3. 어떤 수를 입력했을 때, 입력한 수가 홀수이면 True, 짝수이면 False를 출력하는 프로그램을 제작하시오.\n",
    "- if문을 사용하지 않고 제작"
   ]
  },
  {
   "cell_type": "code",
   "execution_count": null,
   "metadata": {
    "colab": {
     "base_uri": "https://localhost:8080/"
    },
    "id": "XMlKbvEr92Wc",
    "outputId": "2cd428bc-c6dc-49af-c289-071136ed3622"
   },
   "outputs": [],
   "source": [
    "def odd_even(x):\n",
    "    return bool(x % 2)\n",
    "\n",
    "x = int(input('숫자를 입력하시오 : '))\n",
    "odd_even(x)"
   ]
  },
  {
   "cell_type": "markdown",
   "metadata": {
    "id": "0B2kMxv-95iq"
   },
   "source": [
    "4. For 반복문을 이용하여, 1부터 입력받은 수까지의 제곱 합을 구하는 프로그램을 만드시오.\n",
    "\n",
    "    Ex) 1² + 2² + 3² + 4² + ... + n"
   ]
  },
  {
   "cell_type": "code",
   "execution_count": 62,
   "metadata": {
    "id": "lQw1P64e9_pN"
   },
   "outputs": [
    {
     "name": "stdin",
     "output_type": "stream",
     "text": [
      "숫자를 입력하세요 :  4\n"
     ]
    },
    {
     "data": {
      "text/plain": [
       "30"
      ]
     },
     "execution_count": 62,
     "metadata": {},
     "output_type": "execute_result"
    }
   ],
   "source": [
    "def sum_of_squared(n):\n",
    "    sum = 0\n",
    "    for i in range(1, n + 1):\n",
    "        sum += i ** 2\n",
    "    return sum\n",
    "\n",
    "n = int(input('숫자를 입력하시오 : '))\n",
    "sum_of_squared(n)"
   ]
  },
  {
   "cell_type": "markdown",
   "metadata": {
    "id": "ZhPo4P7gc5lC"
   },
   "source": [
    "### Python 라이브러리 사용관련 문제\n",
    "- 사무용품을 렌탈해주는 회사에서 발생한 데이터(01_Data.csv)파일을 분석하고자 합니다.\n",
    "- Python의 Pandas 라이브러리로 아래의 문제를 해결해 보세요."
   ]
  },
  {
   "cell_type": "code",
   "execution_count": 1,
   "metadata": {
    "id": "Mvo5R1n8ednh"
   },
   "outputs": [],
   "source": [
    "import pandas as pd"
   ]
  },
  {
   "cell_type": "markdown",
   "metadata": {
    "id": "6V1GbLGCeY6C"
   },
   "source": [
    "5. 데이터 파일을 df1 변수로 선언하고, 데이터의 열개수와 행개수를 계산하시오."
   ]
  },
  {
   "cell_type": "code",
   "execution_count": 2,
   "metadata": {
    "colab": {
     "base_uri": "https://localhost:8080/"
    },
    "id": "PBCb7bSPAq58",
    "outputId": "75c5938d-0b79-4c8f-a6b1-4ba56e182681"
   },
   "outputs": [
    {
     "name": "stdout",
     "output_type": "stream",
     "text": [
      "행 개수 : 51301, 열 개수 : 20\n"
     ]
    }
   ],
   "source": [
    "df1 = pd.read_csv('01_Data.csv')\n",
    "df1.shape # shape : (행 개수, 열 개수) / Tuple 형태로 출력\n",
    "print(f'행 개수 : {df1.shape[0]}, 열 개수 : {df1.shape[1]}')"
   ]
  },
  {
   "cell_type": "markdown",
   "metadata": {
    "id": "f1g5-0aTh8Mj"
   },
   "source": [
    "6. 데이터에서 고객들의 유입경로(Channel)을 분석하고자 한다. 유입경로(Channel) 중 가장 많은 고객이 유입된 경로를 확인하시오."
   ]
  },
  {
   "cell_type": "code",
   "execution_count": 5,
   "metadata": {
    "colab": {
     "base_uri": "https://localhost:8080/",
     "height": 35
    },
    "id": "ebgHsjwZgT37",
    "outputId": "9f8d1b29-99b6-421b-819a-86ec657b1f8f"
   },
   "outputs": [
    {
     "data": {
      "text/plain": [
       "'영업방판'"
      ]
     },
     "execution_count": 5,
     "metadata": {},
     "output_type": "execute_result"
    }
   ],
   "source": [
    "df1['Channel'].value_counts().idxmax()"
   ]
  },
  {
   "cell_type": "markdown",
   "metadata": {
    "id": "Rn2Khy1Kv2uZ"
   },
   "source": [
    "7. 데이터에서 고객들이 가장 많이 계약한 제품군(Product_Type)을 분석하고자 한다. 제품군(Product_Type)에는 어떤 데이터가 있는지 확인하시오.\n"
   ]
  },
  {
   "cell_type": "code",
   "execution_count": 86,
   "metadata": {
    "id": "G42nK25XvUak"
   },
   "outputs": [
    {
     "data": {
      "text/plain": [
       "array(['DES-1', 'DES-3A', 'DES-2', 'DES-R4', 'MMC', 'ERA'], dtype=object)"
      ]
     },
     "execution_count": 86,
     "metadata": {},
     "output_type": "execute_result"
    }
   ],
   "source": [
    "df1['Product_Type'].unique()"
   ]
  },
  {
   "cell_type": "markdown",
   "metadata": {
    "id": "LkT8R2e4v53u"
   },
   "source": [
    "8. 데이터에서 고객들이 결제하는 은행(Bank)를 확인하고자 한다. 결제은행(Bank)항목에서 '신한카드'로 결제하는 고객들의 수를 확인하시오."
   ]
  },
  {
   "cell_type": "code",
   "execution_count": 23,
   "metadata": {
    "id": "8lBR2AUHwMRA"
   },
   "outputs": [
    {
     "data": {
      "text/plain": [
       "1532"
      ]
     },
     "execution_count": 23,
     "metadata": {},
     "output_type": "execute_result"
    }
   ],
   "source": [
    "len(df1.loc[df1['Bank'] == '신한카드'])"
   ]
  },
  {
   "cell_type": "markdown",
   "metadata": {
    "id": "dZbPMayvwO94"
   },
   "source": [
    "9. 유입경로(Channel)에서 '대형마트A'로 유입된 고객들 중, 연체건수(Overdue_count)가 높은 상위 30명의 계약 명단을 추출하여 result4.xlsx 저장하시오.\n"
   ]
  },
  {
   "cell_type": "code",
   "execution_count": 8,
   "metadata": {
    "id": "_GVehkLLwSux"
   },
   "outputs": [],
   "source": [
    "df1.loc[df1['Channel'] == '대형마트A'].sort_values(by = 'Overdue_count', ascending = False).head(30).to_excel('result4.xlsx')"
   ]
  },
  {
   "cell_type": "markdown",
   "metadata": {
    "id": "hfWPKpofwV9O"
   },
   "source": [
    "10. 월렌탈비용(Amount_Month)이 15만원 이상인 고객들 중 판매유형(Sales_Type)이 '렌탈'에 해당하는 고객만 추출하여, 해당 데이터의 행(index) 개수를 확인하시오."
   ]
  },
  {
   "cell_type": "code",
   "execution_count": 46,
   "metadata": {
    "id": "aBen31GDwyp6"
   },
   "outputs": [
    {
     "data": {
      "text/plain": [
       "141"
      ]
     },
     "execution_count": 46,
     "metadata": {},
     "output_type": "execute_result"
    }
   ],
   "source": [
    "cond1 = (df1['Amount_Month'] >= 150000)\n",
    "cond2 = (df1['Sales_Type'] == '렌탈')\n",
    "len(df1.loc[cond1 & cond2])"
   ]
  },
  {
   "cell_type": "markdown",
   "metadata": {
    "id": "9Ysde5wnw5LX"
   },
   "source": [
    "11. 제품군(Product_Type)중 빈도수가 가장 높은 상위 3개의 항목을 추출하여, df2로 선언한 뒤, 계약일자(Datetime)에 따른 월렌탈비용(Amount_Month)의 합을 계산해 result5.xlsx 파일로 저장하시오."
   ]
  },
  {
   "cell_type": "code",
   "execution_count": 24,
   "metadata": {
    "id": "H1ikI6rRw8Jx"
   },
   "outputs": [
    {
     "data": {
      "text/html": [
       "<div>\n",
       "<style scoped>\n",
       "    .dataframe tbody tr th:only-of-type {\n",
       "        vertical-align: middle;\n",
       "    }\n",
       "\n",
       "    .dataframe tbody tr th {\n",
       "        vertical-align: top;\n",
       "    }\n",
       "\n",
       "    .dataframe thead th {\n",
       "        text-align: right;\n",
       "    }\n",
       "</style>\n",
       "<table border=\"1\" class=\"dataframe\">\n",
       "  <thead>\n",
       "    <tr style=\"text-align: right;\">\n",
       "      <th></th>\n",
       "      <th>Amount_Month</th>\n",
       "    </tr>\n",
       "    <tr>\n",
       "      <th>Datetime</th>\n",
       "      <th></th>\n",
       "    </tr>\n",
       "  </thead>\n",
       "  <tbody>\n",
       "    <tr>\n",
       "      <th>2019-01-01</th>\n",
       "      <td>4556400</td>\n",
       "    </tr>\n",
       "    <tr>\n",
       "      <th>2019-01-02</th>\n",
       "      <td>4903800</td>\n",
       "    </tr>\n",
       "    <tr>\n",
       "      <th>2019-01-03</th>\n",
       "      <td>7146300</td>\n",
       "    </tr>\n",
       "    <tr>\n",
       "      <th>2019-01-04</th>\n",
       "      <td>4920900</td>\n",
       "    </tr>\n",
       "    <tr>\n",
       "      <th>2019-01-05</th>\n",
       "      <td>5505450</td>\n",
       "    </tr>\n",
       "    <tr>\n",
       "      <th>...</th>\n",
       "      <td>...</td>\n",
       "    </tr>\n",
       "    <tr>\n",
       "      <th>2020-08-03</th>\n",
       "      <td>2903739</td>\n",
       "    </tr>\n",
       "    <tr>\n",
       "      <th>2020-08-04</th>\n",
       "      <td>2858343</td>\n",
       "    </tr>\n",
       "    <tr>\n",
       "      <th>2020-08-05</th>\n",
       "      <td>3031842</td>\n",
       "    </tr>\n",
       "    <tr>\n",
       "      <th>2020-08-06</th>\n",
       "      <td>2770758</td>\n",
       "    </tr>\n",
       "    <tr>\n",
       "      <th>2020-08-07</th>\n",
       "      <td>1984143</td>\n",
       "    </tr>\n",
       "  </tbody>\n",
       "</table>\n",
       "<p>577 rows × 1 columns</p>\n",
       "</div>"
      ],
      "text/plain": [
       "            Amount_Month\n",
       "Datetime                \n",
       "2019-01-01       4556400\n",
       "2019-01-02       4903800\n",
       "2019-01-03       7146300\n",
       "2019-01-04       4920900\n",
       "2019-01-05       5505450\n",
       "...                  ...\n",
       "2020-08-03       2903739\n",
       "2020-08-04       2858343\n",
       "2020-08-05       3031842\n",
       "2020-08-06       2770758\n",
       "2020-08-07       1984143\n",
       "\n",
       "[577 rows x 1 columns]"
      ]
     },
     "execution_count": 24,
     "metadata": {},
     "output_type": "execute_result"
    }
   ],
   "source": [
    "top3_product_types = df1['Product_Type'].value_counts().head(3).index\n",
    "\n",
    "df2 = df1.loc[df1['Product_Type'].isin(top3_product_types)]\n",
    "df2.pivot_table(index = 'Datetime', values = 'Amount_Month', aggfunc = 'sum')to_excel('result5.xlsx')"
   ]
  },
  {
   "cell_type": "code",
   "execution_count": null,
   "metadata": {},
   "outputs": [],
   "source": []
  }
 ],
 "metadata": {
  "colab": {
   "provenance": []
  },
  "kernelspec": {
   "display_name": "Python 3 (ipykernel)",
   "language": "python",
   "name": "python3"
  },
  "language_info": {
   "codemirror_mode": {
    "name": "ipython",
    "version": 3
   },
   "file_extension": ".py",
   "mimetype": "text/x-python",
   "name": "python",
   "nbconvert_exporter": "python",
   "pygments_lexer": "ipython3",
   "version": "3.11.2"
  }
 },
 "nbformat": 4,
 "nbformat_minor": 4
}
